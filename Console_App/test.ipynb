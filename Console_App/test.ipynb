{
 "cells": [
  {
   "cell_type": "code",
   "execution_count": 1,
   "metadata": {},
   "outputs": [],
   "source": [
    "from easygoogletranslate import EasyGoogleTranslate"
   ]
  },
  {
   "cell_type": "code",
   "execution_count": 2,
   "metadata": {},
   "outputs": [],
   "source": [
    "def translate(text,lang):\n",
    "    chunks = [text[i:i+5000] for i in range(0, len(text), 5000)]\n",
    "    translator = EasyGoogleTranslate(\n",
    "          source_language = \"en\",\n",
    "          target_language = lang\n",
    "    )\n",
    "    translated_text = \"\"\n",
    "    for chunk in chunks:\n",
    "          translated_text += translator.translate(chunk)\n",
    "    return translated_text"
   ]
  },
  {
   "cell_type": "code",
   "execution_count": 3,
   "metadata": {},
   "outputs": [],
   "source": [
    "def translateFile():\n",
    "    langs = [\"hi\",\"mr\",\"ta\",\"te\",\"kn\"]\n",
    "    for lang in langs:\n",
    "        with open(\"Transcript.txt\",\"r\") as file:\n",
    "            text = file.read()\n",
    "        with open(f\"Transcript_{lang}.txt\",\"w\") as file:\n",
    "            file.write(translate(text,lang))\n",
    "        print(f\"Translated to {lang}\")"
   ]
  },
  {
   "cell_type": "code",
   "execution_count": 4,
   "metadata": {},
   "outputs": [
    {
     "name": "stdout",
     "output_type": "stream",
     "text": [
      "Translated to hi\n",
      "Translated to mr\n",
      "Translated to ta\n",
      "Translated to te\n",
      "Translated to kn\n"
     ]
    }
   ],
   "source": [
    "translateFile()"
   ]
  }
 ],
 "metadata": {
  "kernelspec": {
   "display_name": "ml",
   "language": "python",
   "name": "python3"
  },
  "language_info": {
   "codemirror_mode": {
    "name": "ipython",
    "version": 3
   },
   "file_extension": ".py",
   "mimetype": "text/x-python",
   "name": "python",
   "nbconvert_exporter": "python",
   "pygments_lexer": "ipython3",
   "version": "3.10.12"
  }
 },
 "nbformat": 4,
 "nbformat_minor": 2
}
